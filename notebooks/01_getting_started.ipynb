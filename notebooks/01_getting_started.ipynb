{
 "cells": [
  {
   "cell_type": "markdown",
   "metadata": {},
   "source": [
    "# CompI - Getting Started\n",
    "\n",
    "Welcome to CompI (Compositional Intelligence)! This notebook will guide you through the basic setup and first experiments.\n",
    "\n",
    "## What is CompI?\n",
    "\n",
    "CompI is a multi-modal AI system that combines:\n",
    "- Text analysis and emotion detection\n",
    "- Image generation with Stable Diffusion\n",
    "- Audio processing and generation\n",
    "- Creative content fusion\n"
   ]
  },
  {
   "cell_type": "code",
   "execution_count": null,
   "metadata": {},
   "outputs": [],
   "source": [
    "# Setup and imports\n",
    "import sys\n",
    "from pathlib import Path\n",
    "\n",
    "# Add project root to path\n",
    "project_root = Path().absolute().parent\n",
    "sys.path.append(str(project_root))\n",
    "\n",
    "# Basic imports\n",
    "import torch\n",
    "import numpy as np\n",
    "import matplotlib.pyplot as plt\n",
    "from PIL import Image\n",
    "\n",
    "# Project imports\n",
    "from src.config import *\n",
    "from src.utils import setup_logger\n",
    "\n",
    "# Setup logger\n",
    "logger = setup_logger(\"compi_notebook\")\n",
    "logger.info(\"CompI notebook started!\")"
   ]
  },
  {
   "cell_type": "markdown",
   "metadata": {},
   "source": [
    "## 1. Environment Check\n",
    "\n",
    "Let's verify that everything is working correctly:"
   ]
  },
  {
   "cell_type": "code",
   "execution_count": null,
   "metadata": {},
   "outputs": [],
   "source": [
    "# Check PyTorch and CUDA\n",
    "print(f\"PyTorch version: {torch.__version__}\")\n",
    "print(f\"CUDA available: {torch.cuda.is_available()}\")\n",
    "\n",
    "if torch.cuda.is_available():\n",
    "    print(f\"CUDA device: {torch.cuda.get_device_name(0)}\")\n",
    "    print(f\"CUDA memory: {torch.cuda.get_device_properties(0).total_memory / 1e9:.1f} GB\")\n",
    "\n",
    "device = torch.device(\"cuda\" if torch.cuda.is_available() else \"cpu\")\n",
    "print(f\"Using device: {device}\")"
   ]
  },
  {
   "cell_type": "markdown",
   "metadata": {},
   "source": [
    "## 2. Text Analysis\n",
    "\n",
    "Let's start with basic text analysis and emotion detection:"
   ]
  },
  {
   "cell_type": "code",
   "execution_count": null,
   "metadata": {},
   "outputs": [],
   "source": [
    "from textblob import TextBlob\n",
    "from transformers import pipeline\n",
    "\n",
    "# Initialize emotion classifier\n",
    "emotion_classifier = pipeline(\n",
    "    \"text-classification\",\n",
    "    model=\"j-hartmann/emotion-english-distilroberta-base\",\n",
    "    device=0 if torch.cuda.is_available() else -1\n",
    ")\n",
    "\n",
    "# Test text\n",
    "test_text = \"I'm feeling excited about this new creative project!\"\n",
    "\n",
    "# Sentiment analysis with TextBlob\n",
    "blob = TextBlob(test_text)\n",
    "sentiment = blob.sentiment\n",
    "\n",
    "# Emotion detection\n",
    "emotions = emotion_classifier(test_text)\n",
    "\n",
    "print(f\"Text: {test_text}\")\n",
    "print(f\"Sentiment - Polarity: {sentiment.polarity:.3f}, Subjectivity: {sentiment.subjectivity:.3f}\")\n",
    "print(f\"Emotion: {emotions[0]['label']} (confidence: {emotions[0]['score']:.3f})\")"
   ]
  },
  {
   "cell_type": "markdown",
   "metadata": {},
   "source": [
    "## 3. Simple Image Generation\n",
    "\n",
    "Now let's try generating an image based on text:"
   ]
  },
  {
   "cell_type": "code",
   "execution_count": null,
   "metadata": {},
   "outputs": [],
   "source": [
    "# Note: This will download the Stable Diffusion model on first run (~4GB)\n",
    "# Make sure you have enough disk space and a good internet connection\n",
    "\n",
    "from diffusers import StableDiffusionPipeline\n",
    "\n",
    "# Load the model (this may take a while on first run)\n",
    "print(\"Loading Stable Diffusion model...\")\n",
    "pipe = StableDiffusionPipeline.from_pretrained(\n",
    "    STABLE_DIFFUSION_MODEL,\n",
    "    torch_dtype=torch.float16 if torch.cuda.is_available() else torch.float32\n",
    ")\n",
    "pipe = pipe.to(device)\n",
    "\n",
    "# Enable memory efficient attention if available\n",
    "if hasattr(pipe, \"enable_attention_slicing\"):\n",
    "    pipe.enable_attention_slicing()\n",
    "\n",
    "print(\"Model loaded successfully!\")"
   ]
  },
  {
   "cell_type": "code",
   "execution_count": null,
   "metadata": {},
   "outputs": [],
   "source": [
    "# Generate an image\n",
    "prompt = \"a serene landscape with floating islands, digital art, highly detailed\"\n",
    "\n",
    "print(f\"Generating image for prompt: {prompt}\")\n",
    "\n",
    "# Generate\n",
    "with torch.autocast(device.type if device.type != 'mps' else 'cpu'):\n",
    "    image = pipe(\n",
    "        prompt,\n",
    "        num_inference_steps=DEFAULT_INFERENCE_STEPS,\n",
    "        guidance_scale=DEFAULT_GUIDANCE_SCALE,\n",
    "        height=DEFAULT_IMAGE_SIZE[0],\n",
    "        width=DEFAULT_IMAGE_SIZE[1]\n",
    "    ).images[0]\n",
    "\n",
    "# Display the image\n",
    "plt.figure(figsize=(8, 8))\n",
    "plt.imshow(image)\n",
    "plt.axis('off')\n",
    "plt.title(f\"Generated Image: {prompt}\")\n",
    "plt.show()\n",
    "\n",
    "# Save the image\n",
    "from src.utils import save_image\n",
    "saved_path = save_image(image, \"test_generation.png\")\n",
    "print(f\"Image saved to: {saved_path}\")"
   ]
  },
  {
   "cell_type": "markdown",
   "metadata": {},
   "source": [
    "## 4. Next Steps\n",
    "\n",
    "Congratulations! You've successfully:\n",
    "- ✅ Set up the CompI environment\n",
    "- ✅ Analyzed text for sentiment and emotion\n",
    "- ✅ Generated your first AI image\n",
    "\n",
    "### What's Next?\n",
    "\n",
    "1. **Experiment with different prompts** - Try various artistic styles, emotions, and concepts\n",
    "2. **Combine modalities** - Use emotion analysis to influence image generation\n",
    "3. **Add audio** - Generate music or sounds that match the visual content\n",
    "4. **Build a UI** - Create a Streamlit or Gradio interface for easy interaction\n",
    "\n",
    "### Useful Resources:\n",
    "\n",
    "- [Stable Diffusion Prompting Guide](https://prompthero.com/stable-diffusion-prompt-guide)\n",
    "- [Hugging Face Transformers Documentation](https://huggingface.co/docs/transformers)\n",
    "- [CompI Project Documentation](../README.md)\n"
   ]
  },
  {
   "cell_type": "code",
   "execution_count": null,
   "metadata": {},
   "outputs": [],
   "source": [
    "# Clean up GPU memory\n",
    "if torch.cuda.is_available():\n",
    "    torch.cuda.empty_cache()\n",
    "    \n",
    "print(\"🎉 Notebook completed successfully!\")"
   ]
  }
 ],
 "metadata": {
  "kernelspec": {
   "display_name": "Python 3",
   "language": "python",
   "name": "python3"
  },
  "language_info": {
   "codemirror_mode": {
    "name": "ipython",
    "version": 3
   },
   "file_extension": ".py",
   "mimetype": "text/x-python",
   "name": "python",
   "nbconvert_exporter": "python",
   "pygments_lexer": "ipython3",
   "version": "3.10.0"
  }
 },
 "nbformat": 4,
 "nbformat_minor": 4
}
